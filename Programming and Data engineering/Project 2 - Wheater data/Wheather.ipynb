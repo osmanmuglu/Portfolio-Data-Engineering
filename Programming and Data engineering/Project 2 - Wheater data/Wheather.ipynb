{
 "cells": [
  {
   "cell_type": "markdown",
   "id": "d92134b5",
   "metadata": {},
   "source": [
    "## Scraping web data for wheather status of Barcelona "
   ]
  },
  {
   "cell_type": "code",
   "execution_count": 9,
   "id": "3737932f",
   "metadata": {},
   "outputs": [],
   "source": [
    "from  requests_html import HTMLSession"
   ]
  },
  {
   "cell_type": "markdown",
   "id": "be57e47b",
   "metadata": {},
   "source": [
    "<b>The session, query and url and User-Agent</b>"
   ]
  },
  {
   "cell_type": "code",
   "execution_count": 10,
   "id": "37d5308d",
   "metadata": {},
   "outputs": [],
   "source": [
    "s = HTMLSession()\n",
    "\n",
    "query = 'barcelona'\n",
    "url = f'https://www.google.com/search?q=weather+{query}'\n",
    "\n",
    "r = s.get(url, headers={'User-Agent': 'Mozilla/5.0 (Windows NT 10.0; Win64; x64) AppleWebKit/537.36 (KHTML, like Gecko) Chrome/103.0.0.0 Safari/537.36'})\n"
   ]
  },
  {
   "cell_type": "markdown",
   "id": "750be383",
   "metadata": {},
   "source": [
    "<b>Finding elements</b>"
   ]
  },
  {
   "cell_type": "code",
   "execution_count": 11,
   "id": "d3bc78b4",
   "metadata": {},
   "outputs": [],
   "source": [
    "temp = r.html.find('span#wob_tm', first=True).text \n",
    "unit = r.html.find('div.vk_bk.wob-unit span.wob_t', first=True).text\n",
    "desc = r.html.find('div.VQF4g', first=True).find('span#wob_dc', first=True).text"
   ]
  },
  {
   "cell_type": "markdown",
   "id": "55a9cad9",
   "metadata": {},
   "source": [
    "<b>The results</b>"
   ]
  },
  {
   "cell_type": "code",
   "execution_count": 12,
   "id": "a07b4c97",
   "metadata": {},
   "outputs": [
    {
     "name": "stdout",
     "output_type": "stream",
     "text": [
      "barcelona 13 °C Gedeeltelijk bewolkt\n"
     ]
    }
   ],
   "source": [
    "print(query, temp, unit, desc)"
   ]
  }
 ],
 "metadata": {
  "kernelspec": {
   "display_name": "Python 3 (ipykernel)",
   "language": "python",
   "name": "python3"
  },
  "language_info": {
   "codemirror_mode": {
    "name": "ipython",
    "version": 3
   },
   "file_extension": ".py",
   "mimetype": "text/x-python",
   "name": "python",
   "nbconvert_exporter": "python",
   "pygments_lexer": "ipython3",
   "version": "3.9.13"
  }
 },
 "nbformat": 4,
 "nbformat_minor": 5
}
