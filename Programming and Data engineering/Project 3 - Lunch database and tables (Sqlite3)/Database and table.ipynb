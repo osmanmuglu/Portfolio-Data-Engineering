{
 "cells": [
  {
   "cell_type": "markdown",
   "id": "fb0cb0b1",
   "metadata": {},
   "source": [
    "## Using Sqlite3 for making a database and filling it with data"
   ]
  },
  {
   "cell_type": "markdown",
   "id": "03e56868",
   "metadata": {},
   "source": [
    "<b>Import Sqlite3</b>"
   ]
  },
  {
   "cell_type": "code",
   "execution_count": 11,
   "id": "25ec3918",
   "metadata": {},
   "outputs": [],
   "source": [
    "import sqlite3"
   ]
  },
  {
   "cell_type": "markdown",
   "id": "4a36642f",
   "metadata": {},
   "source": [
    "<b>Make / Connect to database</b>"
   ]
  },
  {
   "cell_type": "code",
   "execution_count": 12,
   "id": "c05b43eb",
   "metadata": {},
   "outputs": [],
   "source": [
    "conn = sqlite3.connect('lunch.db')\n",
    "c = conn.cursor()"
   ]
  },
  {
   "cell_type": "markdown",
   "id": "9f87eda6",
   "metadata": {},
   "source": [
    "<b>Create table</b>"
   ]
  },
  {
   "cell_type": "code",
   "execution_count": 13,
   "id": "9d736230",
   "metadata": {},
   "outputs": [
    {
     "data": {
      "text/plain": [
       "<sqlite3.Cursor at 0x137526cf3b0>"
      ]
     },
     "execution_count": 13,
     "metadata": {},
     "output_type": "execute_result"
    }
   ],
   "source": [
    "c.execute('''DROP TABLE meals''') ###deleting table\n",
    "\n",
    "c.execute('''CREATE TABLE meals(sandwich TEXT, fruit TEXT, tablenumber INT)''') ###creating table"
   ]
  },
  {
   "cell_type": "markdown",
   "id": "bd915f2f",
   "metadata": {},
   "source": [
    "<b>The data</b>"
   ]
  },
  {
   "cell_type": "code",
   "execution_count": 14,
   "id": "fbc70334",
   "metadata": {},
   "outputs": [],
   "source": [
    "sandwich = 'chicken'\n",
    "fruit = 'orange'\n",
    "tablenum = 22"
   ]
  },
  {
   "cell_type": "markdown",
   "id": "2d756712",
   "metadata": {},
   "source": [
    "<b>Putting data in table (database)</b>"
   ]
  },
  {
   "cell_type": "code",
   "execution_count": 15,
   "id": "72a1681c",
   "metadata": {},
   "outputs": [],
   "source": [
    "c.execute('''INSERT INTO meals VALUES(?, ?, ?)''', (sandwich, fruit, tablenum)) ###inserting data into table\n",
    "conn.commit()"
   ]
  },
  {
   "cell_type": "markdown",
   "id": "3e1b3316",
   "metadata": {},
   "source": [
    "<b>Getting results out of database<b>"
   ]
  },
  {
   "cell_type": "code",
   "execution_count": 16,
   "id": "8f08fd79",
   "metadata": {},
   "outputs": [
    {
     "name": "stdout",
     "output_type": "stream",
     "text": [
      "[('chicken', 'orange', 22)]\n"
     ]
    }
   ],
   "source": [
    "c.execute('''SELECT * FROM meals''')\n",
    "results = c.fetchall()\n",
    "print(results)"
   ]
  }
 ],
 "metadata": {
  "kernelspec": {
   "display_name": "Python 3 (ipykernel)",
   "language": "python",
   "name": "python3"
  },
  "language_info": {
   "codemirror_mode": {
    "name": "ipython",
    "version": 3
   },
   "file_extension": ".py",
   "mimetype": "text/x-python",
   "name": "python",
   "nbconvert_exporter": "python",
   "pygments_lexer": "ipython3",
   "version": "3.9.13"
  }
 },
 "nbformat": 4,
 "nbformat_minor": 5
}
