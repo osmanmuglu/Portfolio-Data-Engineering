{
 "cells": [
  {
   "cell_type": "markdown",
   "id": "e2563d80",
   "metadata": {},
   "source": [
    "## Popular Super Hero"
   ]
  },
  {
   "cell_type": "code",
   "execution_count": null,
   "id": "4680305b",
   "metadata": {},
   "outputs": [],
   "source": [
    "from pyspark.sql import SparkSession\n",
    "from pyspark.sql import functions as func\n",
    "from pyspark.sql.types import StructType, StructField, IntegerType, StringType"
   ]
  },
  {
   "cell_type": "markdown",
   "id": "f78e870c",
   "metadata": {},
   "source": [
    "<b>Create spark session</b>"
   ]
  },
  {
   "cell_type": "markdown",
   "id": "c6f6a906",
   "metadata": {},
   "source": [
    "spark = SparkSession.builder.appName(\"MostPopularSuperhero\").getOrCreate()"
   ]
  },
  {
   "cell_type": "markdown",
   "id": "67e35eb5",
   "metadata": {},
   "source": [
    "<b>Creating schema</b>"
   ]
  },
  {
   "cell_type": "code",
   "execution_count": null,
   "id": "1c0d7b2f",
   "metadata": {},
   "outputs": [],
   "source": [
    "schema = StructType([ \\\n",
    "                     StructField(\"id\", IntegerType(), True), \n",
    "                     StructField(\"name\", StringType(), True)])"
   ]
  },
  {
   "cell_type": "markdown",
   "id": "6e94cf0c",
   "metadata": {},
   "source": [
    "<b>Load two different datasets</b>"
   ]
  },
  {
   "cell_type": "code",
   "execution_count": 7,
   "id": "d4a4cbe5",
   "metadata": {},
   "outputs": [
    {
     "name": "stdout",
     "output_type": "stream",
     "text": [
      "CAPTAIN AMERICA is the most popular superhero with 1933 co-appearances.\n"
     ]
    }
   ],
   "source": [
    "names = spark.read.schema(schema).option(\"sep\", \" \").csv(\"file:///SparkCourse/Marvel-names.txt\")\n",
    "\n",
    "lines = spark.read.text(\"file:///SparkCourse/Marvel-graph.txt\") #Using schema is not relevant"
   ]
  },
  {
   "cell_type": "markdown",
   "id": "24bc17cc",
   "metadata": {},
   "source": [
    "<b>Put the graph data in a dataframe</b>"
   ]
  },
  {
   "cell_type": "code",
   "execution_count": null,
   "id": "a9818ca5",
   "metadata": {},
   "outputs": [],
   "source": [
    "connections = lines.withColumn(\"id\", func.split(func.trim(func.col(\"value\")), \" \")[0]) \\\n",
    "    .withColumn(\"connections\", func.size(func.split(func.trim(func.col(\"value\")), \" \")) - 1) \\\n",
    "    .groupBy(\"id\").agg(func.sum(\"connections\").alias(\"connections\"))\n",
    "    "
   ]
  },
  {
   "cell_type": "markdown",
   "id": "691654f3",
   "metadata": {},
   "source": [
    "<b>Extract most popular super hero from graph dataset</b>"
   ]
  },
  {
   "cell_type": "code",
   "execution_count": null,
   "id": "5a65cc24",
   "metadata": {},
   "outputs": [],
   "source": [
    "mostPopular = connections.sort(func.col(\"connections\").desc()).first()"
   ]
  },
  {
   "cell_type": "markdown",
   "id": "594db8b9",
   "metadata": {},
   "source": [
    "<b></b>"
   ]
  },
  {
   "cell_type": "code",
   "execution_count": null,
   "id": "5bf3aac0",
   "metadata": {},
   "outputs": [],
   "source": [
    "\n",
    "mostPopular = connections.sort(func.col(\"connections\").desc()).first()\n",
    "\n",
    "mostPopularName = names.filter(func.col(\"id\") == mostPopular[0]).select(\"name\").first()\n",
    "\n",
    "print(mostPopularName[0] + \" is the most popular superhero with \" + str(mostPopular[1]) + \" co-appearances.\")\n"
   ]
  }
 ],
 "metadata": {
  "kernelspec": {
   "display_name": "Python 3 (ipykernel)",
   "language": "python",
   "name": "python3"
  },
  "language_info": {
   "codemirror_mode": {
    "name": "ipython",
    "version": 3
   },
   "file_extension": ".py",
   "mimetype": "text/x-python",
   "name": "python",
   "nbconvert_exporter": "python",
   "pygments_lexer": "ipython3",
   "version": "3.9.13"
  }
 },
 "nbformat": 4,
 "nbformat_minor": 5
}
