{
 "cells": [
  {
   "cell_type": "markdown",
   "id": "19bfa83c",
   "metadata": {},
   "source": [
    "## Data by age using spark"
   ]
  },
  {
   "cell_type": "code",
   "execution_count": 3,
   "id": "349f4326",
   "metadata": {},
   "outputs": [],
   "source": [
    "from pyspark.sql import SparkSession\n",
    "from pyspark.sql import Row\n",
    "from pyspark.sql import functions as func"
   ]
  },
  {
   "cell_type": "markdown",
   "id": "1c857c87",
   "metadata": {},
   "source": [
    "<b>Create spark session</b>"
   ]
  },
  {
   "cell_type": "code",
   "execution_count": 4,
   "id": "344f5038",
   "metadata": {},
   "outputs": [],
   "source": [
    "spark = SparkSession.builder.appName(\"FriendsByAge\").getOrCreate()"
   ]
  },
  {
   "cell_type": "markdown",
   "id": "9f9225ac",
   "metadata": {},
   "source": [
    "<b>Read csv file and convert into dataframe</b>"
   ]
  },
  {
   "cell_type": "code",
   "execution_count": 5,
   "id": "e451a6a7",
   "metadata": {},
   "outputs": [],
   "source": [
    "lines = spark.read.option(\"header\", \"true\").option(\"inferSchema\", \"true\").csv(\"file:///Data by age with header.csv\")"
   ]
  },
  {
   "cell_type": "markdown",
   "id": "31772283",
   "metadata": {},
   "source": [
    "<b>Select needed columns</b>"
   ]
  },
  {
   "cell_type": "code",
   "execution_count": 6,
   "id": "c4de7b90",
   "metadata": {},
   "outputs": [],
   "source": [
    "friendsByAge = lines.select(\"age\", \"friends\")"
   ]
  },
  {
   "cell_type": "markdown",
   "id": "6b22dbd5",
   "metadata": {},
   "source": [
    "<b>Group by age and get the average</b>"
   ]
  },
  {
   "cell_type": "code",
   "execution_count": 7,
   "id": "0b4a0699",
   "metadata": {},
   "outputs": [
    {
     "name": "stdout",
     "output_type": "stream",
     "text": [
      "+---+------------------+\n",
      "|age|      avg(friends)|\n",
      "+---+------------------+\n",
      "| 31|            267.25|\n",
      "| 65|             298.2|\n",
      "| 53|222.85714285714286|\n",
      "| 34|             245.5|\n",
      "| 28|             209.1|\n",
      "| 26|242.05882352941177|\n",
      "| 27|           228.125|\n",
      "| 44| 282.1666666666667|\n",
      "| 22|206.42857142857142|\n",
      "| 47|233.22222222222223|\n",
      "| 52| 340.6363636363636|\n",
      "| 40| 250.8235294117647|\n",
      "| 20|             165.0|\n",
      "| 57| 258.8333333333333|\n",
      "| 54| 278.0769230769231|\n",
      "| 48|             281.4|\n",
      "| 19|213.27272727272728|\n",
      "| 64| 281.3333333333333|\n",
      "| 41|268.55555555555554|\n",
      "| 43|230.57142857142858|\n",
      "+---+------------------+\n",
      "only showing top 20 rows\n",
      "\n"
     ]
    }
   ],
   "source": [
    "friendsByAge.groupBy(\"age\").avg(\"friends\").show()"
   ]
  },
  {
   "cell_type": "markdown",
   "id": "24d2f035",
   "metadata": {},
   "source": [
    "<b>Sorted</b>"
   ]
  },
  {
   "cell_type": "code",
   "execution_count": 8,
   "id": "c6715771",
   "metadata": {},
   "outputs": [
    {
     "name": "stdout",
     "output_type": "stream",
     "text": [
      "+---+------------------+\n",
      "|age|      avg(friends)|\n",
      "+---+------------------+\n",
      "| 31|            267.25|\n",
      "| 65|             298.2|\n",
      "| 53|222.85714285714286|\n",
      "| 34|             245.5|\n",
      "| 28|             209.1|\n",
      "| 26|242.05882352941177|\n",
      "| 27|           228.125|\n",
      "| 44| 282.1666666666667|\n",
      "| 22|206.42857142857142|\n",
      "| 47|233.22222222222223|\n",
      "| 52| 340.6363636363636|\n",
      "| 40| 250.8235294117647|\n",
      "| 20|             165.0|\n",
      "| 57| 258.8333333333333|\n",
      "| 54| 278.0769230769231|\n",
      "| 48|             281.4|\n",
      "| 19|213.27272727272728|\n",
      "| 64| 281.3333333333333|\n",
      "| 41|268.55555555555554|\n",
      "| 43|230.57142857142858|\n",
      "+---+------------------+\n",
      "only showing top 20 rows\n",
      "\n"
     ]
    }
   ],
   "source": [
    "friendsByAge.groupBy(\"age\").avg(\"friends\").show()\n"
   ]
  },
  {
   "cell_type": "markdown",
   "id": "d3d6a0b3",
   "metadata": {},
   "source": [
    "<b>Better format</b>"
   ]
  },
  {
   "cell_type": "code",
   "execution_count": 9,
   "id": "0650ab48",
   "metadata": {},
   "outputs": [
    {
     "name": "stdout",
     "output_type": "stream",
     "text": [
      "+---+----------------------+\n",
      "|age|round(avg(friends), 2)|\n",
      "+---+----------------------+\n",
      "| 18|                343.38|\n",
      "| 19|                213.27|\n",
      "| 20|                 165.0|\n",
      "| 21|                350.88|\n",
      "| 22|                206.43|\n",
      "| 23|                 246.3|\n",
      "| 24|                 233.8|\n",
      "| 25|                197.45|\n",
      "| 26|                242.06|\n",
      "| 27|                228.13|\n",
      "| 28|                 209.1|\n",
      "| 29|                215.92|\n",
      "| 30|                235.82|\n",
      "| 31|                267.25|\n",
      "| 32|                207.91|\n",
      "| 33|                325.33|\n",
      "| 34|                 245.5|\n",
      "| 35|                211.63|\n",
      "| 36|                 246.6|\n",
      "| 37|                249.33|\n",
      "+---+----------------------+\n",
      "only showing top 20 rows\n",
      "\n"
     ]
    }
   ],
   "source": [
    "friendsByAge.groupBy(\"age\").agg(func.round(func.avg(\"friends\"), 2)).sort(\"age\").show()"
   ]
  },
  {
   "cell_type": "markdown",
   "id": "b16dd4ae",
   "metadata": {},
   "source": [
    "<b>Change column name</b>"
   ]
  },
  {
   "cell_type": "code",
   "execution_count": 10,
   "id": "a54ba3a5",
   "metadata": {},
   "outputs": [
    {
     "name": "stdout",
     "output_type": "stream",
     "text": [
      "+---+-----------+\n",
      "|age|friends_avg|\n",
      "+---+-----------+\n",
      "| 18|     343.38|\n",
      "| 19|     213.27|\n",
      "| 20|      165.0|\n",
      "| 21|     350.88|\n",
      "| 22|     206.43|\n",
      "| 23|      246.3|\n",
      "| 24|      233.8|\n",
      "| 25|     197.45|\n",
      "| 26|     242.06|\n",
      "| 27|     228.13|\n",
      "| 28|      209.1|\n",
      "| 29|     215.92|\n",
      "| 30|     235.82|\n",
      "| 31|     267.25|\n",
      "| 32|     207.91|\n",
      "| 33|     325.33|\n",
      "| 34|      245.5|\n",
      "| 35|     211.63|\n",
      "| 36|      246.6|\n",
      "| 37|     249.33|\n",
      "+---+-----------+\n",
      "only showing top 20 rows\n",
      "\n"
     ]
    }
   ],
   "source": [
    "friendsByAge.groupBy(\"age\").agg(func.round(func.avg(\"friends\"), 2)\n",
    "  .alias(\"friends_avg\")).sort(\"age\").show()"
   ]
  },
  {
   "cell_type": "code",
   "execution_count": 11,
   "id": "4f216dce",
   "metadata": {},
   "outputs": [],
   "source": [
    "spark.stop()"
   ]
  }
 ],
 "metadata": {
  "kernelspec": {
   "display_name": "Python 3 (ipykernel)",
   "language": "python",
   "name": "python3"
  },
  "language_info": {
   "codemirror_mode": {
    "name": "ipython",
    "version": 3
   },
   "file_extension": ".py",
   "mimetype": "text/x-python",
   "name": "python",
   "nbconvert_exporter": "python",
   "pygments_lexer": "ipython3",
   "version": "3.9.13"
  }
 },
 "nbformat": 4,
 "nbformat_minor": 5
}
