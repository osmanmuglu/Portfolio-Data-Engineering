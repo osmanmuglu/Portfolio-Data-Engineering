{
 "cells": [
  {
   "cell_type": "markdown",
   "id": "738a3cce",
   "metadata": {},
   "source": [
    "## Getting information from a csv file using SparkSql (dataframes)"
   ]
  },
  {
   "cell_type": "code",
   "execution_count": 12,
   "id": "4695f332",
   "metadata": {},
   "outputs": [],
   "source": [
    "from pyspark.sql import SparkSession\n",
    "from pyspark.sql import Row"
   ]
  },
  {
   "cell_type": "markdown",
   "id": "5c87994f",
   "metadata": {},
   "source": [
    "<b>Create spark session</b>"
   ]
  },
  {
   "cell_type": "code",
   "execution_count": 13,
   "id": "ae417ed6",
   "metadata": {},
   "outputs": [],
   "source": [
    "spark = SparkSession.builder.appName(\"SparkSQL\").getOrCreate()"
   ]
  },
  {
   "cell_type": "markdown",
   "id": "fd44e65c",
   "metadata": {},
   "source": [
    "<b>Load and read datafile</b>"
   ]
  },
  {
   "cell_type": "code",
   "execution_count": 14,
   "id": "43ecf0d6",
   "metadata": {},
   "outputs": [],
   "source": [
    "def mapper(line):\n",
    "    fields = line.split(',')\n",
    "    return Row(ID=int(fields[0]), name=str(fields[1].encode(\"utf-8\")), \\\n",
    "               age=int(fields[2]), numFriends=int(fields[3]))\n",
    "\n",
    "lines = spark.sparkContext.textFile(\"friends data.csv\")\n",
    "people = lines.map(mapper)\n",
    "\n",
    "\n",
    "schemaPeople = spark.createDataFrame(people).cache()\n",
    "schemaPeople.createOrReplaceTempView(\"people\")\n"
   ]
  },
  {
   "cell_type": "markdown",
   "id": "d411d354",
   "metadata": {},
   "source": [
    "<b>SQL</b>"
   ]
  },
  {
   "cell_type": "code",
   "execution_count": 15,
   "id": "13d76150",
   "metadata": {},
   "outputs": [],
   "source": [
    "teenagers = spark.sql(\"SELECT * FROM people WHERE age >= 13 AND age <= 19\")"
   ]
  },
  {
   "cell_type": "code",
   "execution_count": 16,
   "id": "7da176ae",
   "metadata": {
    "scrolled": true
   },
   "outputs": [
    {
     "name": "stdout",
     "output_type": "stream",
     "text": [
      "Row(ID=21, name=\"b'Miles'\", age=19, numFriends=268)\n",
      "Row(ID=52, name=\"b'Beverly'\", age=19, numFriends=269)\n",
      "Row(ID=54, name=\"b'Brunt'\", age=19, numFriends=5)\n",
      "Row(ID=106, name=\"b'Beverly'\", age=18, numFriends=499)\n",
      "Row(ID=115, name=\"b'Dukat'\", age=18, numFriends=397)\n",
      "Row(ID=133, name=\"b'Quark'\", age=19, numFriends=265)\n",
      "Row(ID=136, name=\"b'Will'\", age=19, numFriends=335)\n",
      "Row(ID=225, name=\"b'Elim'\", age=19, numFriends=106)\n",
      "Row(ID=304, name=\"b'Will'\", age=19, numFriends=404)\n",
      "Row(ID=341, name=\"b'Data'\", age=18, numFriends=326)\n",
      "Row(ID=366, name=\"b'Keiko'\", age=19, numFriends=119)\n",
      "Row(ID=373, name=\"b'Quark'\", age=19, numFriends=272)\n",
      "Row(ID=377, name=\"b'Beverly'\", age=18, numFriends=418)\n",
      "Row(ID=404, name=\"b'Kasidy'\", age=18, numFriends=24)\n",
      "Row(ID=409, name=\"b'Nog'\", age=19, numFriends=267)\n",
      "Row(ID=439, name=\"b'Data'\", age=18, numFriends=417)\n",
      "Row(ID=444, name=\"b'Keiko'\", age=18, numFriends=472)\n",
      "Row(ID=492, name=\"b'Dukat'\", age=19, numFriends=36)\n",
      "Row(ID=494, name=\"b'Kasidy'\", age=18, numFriends=194)\n"
     ]
    }
   ],
   "source": [
    "for teen in teenagers.collect():\n",
    "  print(teen)"
   ]
  },
  {
   "cell_type": "markdown",
   "id": "6822cfe3",
   "metadata": {},
   "source": [
    "<b>Fucntions insteaad of SQL queries</b>"
   ]
  },
  {
   "cell_type": "code",
   "execution_count": 17,
   "id": "1eb4625b",
   "metadata": {},
   "outputs": [
    {
     "name": "stdout",
     "output_type": "stream",
     "text": [
      "+---+-----+\n",
      "|age|count|\n",
      "+---+-----+\n",
      "| 18|    8|\n",
      "| 19|   11|\n",
      "| 20|    5|\n",
      "| 21|    8|\n",
      "| 22|    7|\n",
      "| 23|   10|\n",
      "| 24|    5|\n",
      "| 25|   11|\n",
      "| 26|   17|\n",
      "| 27|    8|\n",
      "| 28|   10|\n",
      "| 29|   12|\n",
      "| 30|   11|\n",
      "| 31|    8|\n",
      "| 32|   11|\n",
      "| 33|   12|\n",
      "| 34|    6|\n",
      "| 35|    8|\n",
      "| 36|   10|\n",
      "| 37|    9|\n",
      "+---+-----+\n",
      "only showing top 20 rows\n",
      "\n"
     ]
    }
   ],
   "source": [
    "schemaPeople.groupBy(\"age\").count().orderBy(\"age\").show()"
   ]
  },
  {
   "cell_type": "code",
   "execution_count": 18,
   "id": "a18e854f",
   "metadata": {},
   "outputs": [],
   "source": [
    "spark.stop()"
   ]
  }
 ],
 "metadata": {
  "kernelspec": {
   "display_name": "Python 3 (ipykernel)",
   "language": "python",
   "name": "python3"
  },
  "language_info": {
   "codemirror_mode": {
    "name": "ipython",
    "version": 3
   },
   "file_extension": ".py",
   "mimetype": "text/x-python",
   "name": "python",
   "nbconvert_exporter": "python",
   "pygments_lexer": "ipython3",
   "version": "3.9.13"
  }
 },
 "nbformat": 4,
 "nbformat_minor": 5
}
