{
 "cells": [
  {
   "cell_type": "markdown",
   "id": "3b9b2082",
   "metadata": {},
   "source": [
    "## Popular Super Hero"
   ]
  },
  {
   "cell_type": "code",
   "execution_count": 15,
   "id": "7c7c098f",
   "metadata": {},
   "outputs": [],
   "source": [
    "from pyspark.sql import SparkSession\n",
    "from pyspark.sql import functions as func\n",
    "from pyspark.sql.types import StructType, StructField, IntegerType, StringType"
   ]
  },
  {
   "cell_type": "markdown",
   "id": "0e7143b3",
   "metadata": {},
   "source": [
    "<b>Create spark session</b>"
   ]
  },
  {
   "cell_type": "code",
   "execution_count": 16,
   "id": "94b407bf",
   "metadata": {},
   "outputs": [],
   "source": [
    "spark = SparkSession.builder.appName(\"MostPopularSuperhero\").getOrCreate()"
   ]
  },
  {
   "cell_type": "markdown",
   "id": "55387b63",
   "metadata": {},
   "source": [
    "<b>Creating schema</b>"
   ]
  },
  {
   "cell_type": "code",
   "execution_count": 17,
   "id": "e16b7a70",
   "metadata": {},
   "outputs": [],
   "source": [
    "schema = StructType([ \\\n",
    "                     StructField(\"id\", IntegerType(), True), \n",
    "                     StructField(\"name\", StringType(), True)])"
   ]
  },
  {
   "cell_type": "markdown",
   "id": "d37fa170",
   "metadata": {},
   "source": [
    "<b>Load two different datasets</b>"
   ]
  },
  {
   "cell_type": "code",
   "execution_count": 18,
   "id": "26b0f0e2",
   "metadata": {},
   "outputs": [],
   "source": [
    "names = spark.read.schema(schema).option(\"sep\", \" \").csv(\"file:///SparkCourse/Marvel-names.txt\")\n",
    "\n",
    "lines = spark.read.text(\"file:///SparkCourse/Marvel-graph.txt\") #Using schema is not relevant"
   ]
  },
  {
   "cell_type": "markdown",
   "id": "12d61218",
   "metadata": {},
   "source": [
    "<b>Put the graph data in a dataframe</b>"
   ]
  },
  {
   "cell_type": "code",
   "execution_count": 19,
   "id": "06e5d7c9",
   "metadata": {},
   "outputs": [],
   "source": [
    "connections = lines.withColumn(\"id\", func.split(func.trim(func.col(\"value\")), \" \")[0]) \\\n",
    "    .withColumn(\"connections\", func.size(func.split(func.trim(func.col(\"value\")), \" \")) - 1) \\\n",
    "    .groupBy(\"id\").agg(func.sum(\"connections\").alias(\"connections\"))\n",
    "    "
   ]
  },
  {
   "cell_type": "markdown",
   "id": "5dab6f53",
   "metadata": {},
   "source": [
    "<b>Extract most popular super hero from graph dataset</b>"
   ]
  },
  {
   "cell_type": "code",
   "execution_count": 20,
   "id": "f3f58ab5",
   "metadata": {},
   "outputs": [],
   "source": [
    "mostPopular = connections.sort(func.col(\"connections\").desc()).first()"
   ]
  },
  {
   "cell_type": "markdown",
   "id": "b97796a5",
   "metadata": {},
   "source": [
    "<b>Match the hero ID with the names file and give result</b>"
   ]
  },
  {
   "cell_type": "code",
   "execution_count": 21,
   "id": "f727c0c7",
   "metadata": {},
   "outputs": [
    {
     "name": "stdout",
     "output_type": "stream",
     "text": [
      "CAPTAIN AMERICA is the most popular superhero with 1933 co-appearances.\n"
     ]
    }
   ],
   "source": [
    "mostPopularName = names.filter(func.col(\"id\") == mostPopular[0]).select(\"name\").first()\n",
    "\n",
    "print(mostPopularName[0] + \" is the most popular superhero with \" + str(mostPopular[1]) + \" co-appearances.\")\n"
   ]
  }
 ],
 "metadata": {
  "kernelspec": {
   "display_name": "Python 3 (ipykernel)",
   "language": "python",
   "name": "python3"
  },
  "language_info": {
   "codemirror_mode": {
    "name": "ipython",
    "version": 3
   },
   "file_extension": ".py",
   "mimetype": "text/x-python",
   "name": "python",
   "nbconvert_exporter": "python",
   "pygments_lexer": "ipython3",
   "version": "3.9.13"
  }
 },
 "nbformat": 4,
 "nbformat_minor": 5
}
