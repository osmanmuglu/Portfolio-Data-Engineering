{
 "cells": [
  {
   "cell_type": "markdown",
   "id": "8d40e23a",
   "metadata": {},
   "source": [
    "## Movies!"
   ]
  },
  {
   "cell_type": "code",
   "execution_count": 18,
   "id": "339723c3",
   "metadata": {},
   "outputs": [],
   "source": [
    "from pyspark.sql import SparkSession\n",
    "from pyspark.sql import functions as func\n",
    "from pyspark.sql.types import StructType, StructField, IntegerType, LongType\n",
    "import codecs"
   ]
  },
  {
   "cell_type": "markdown",
   "id": "e0bff7ea",
   "metadata": {},
   "source": [
    "<b>Create spark session</b>"
   ]
  },
  {
   "cell_type": "code",
   "execution_count": 19,
   "id": "b1e66ce2",
   "metadata": {},
   "outputs": [],
   "source": [
    "spark = SparkSession.builder.appName(\"PopularMovies\").getOrCreate()"
   ]
  },
  {
   "cell_type": "markdown",
   "id": "120450b2",
   "metadata": {},
   "source": [
    "<b>Load and read datafile</b>"
   ]
  },
  {
   "cell_type": "code",
   "execution_count": 20,
   "id": "1359fe26",
   "metadata": {},
   "outputs": [],
   "source": [
    "def loadMovieNames():\n",
    "    movieNames = {}\n",
    "    with codecs.open(\"C:u.ITEM\", \"r\", encoding='ISO-8859-1', errors='ignore') as f:\n",
    "        for line in f:\n",
    "            fields = line.split('|')\n",
    "            movieNames[int(fields[0])] = fields[1]\n",
    "    return movieNames"
   ]
  },
  {
   "cell_type": "markdown",
   "id": "c55b748c",
   "metadata": {},
   "source": [
    "<b>Getting a broadcasted object from the function</b>"
   ]
  },
  {
   "cell_type": "code",
   "execution_count": 21,
   "id": "e60b5c27",
   "metadata": {},
   "outputs": [],
   "source": [
    "nameDict = spark.sparkContext.broadcast(loadMovieNames())"
   ]
  },
  {
   "cell_type": "markdown",
   "id": "eebccf73",
   "metadata": {},
   "source": [
    "<b>Creating schema</b>"
   ]
  },
  {
   "cell_type": "code",
   "execution_count": 22,
   "id": "b094fb3e",
   "metadata": {},
   "outputs": [],
   "source": [
    "schema = StructType([StructField(\"userID\", IntegerType(), True), \n",
    "                     StructField(\"movieID\", IntegerType(), True), \n",
    "                     StructField(\"rating\", IntegerType(), True), \n",
    "                     StructField(\"timestamp\", LongType(), True)])"
   ]
  },
  {
   "cell_type": "markdown",
   "id": "61f39ee2",
   "metadata": {},
   "source": [
    "<b>Read and load datafile into schema</b>"
   ]
  },
  {
   "cell_type": "code",
   "execution_count": 23,
   "id": "b244a3fd",
   "metadata": {},
   "outputs": [],
   "source": [
    "moviesDF = spark.read.option(\"sep\", \"\\t\").schema(schema).csv(\"file:///u.data\")"
   ]
  },
  {
   "cell_type": "code",
   "execution_count": 24,
   "id": "e5f0cf49",
   "metadata": {},
   "outputs": [],
   "source": [
    "movieCounts = moviesDF.groupBy(\"movieID\").count()"
   ]
  },
  {
   "cell_type": "markdown",
   "id": "b5c95406",
   "metadata": {},
   "source": [
    "<b>Convert python function into UDF for SparkSQL</b>"
   ]
  },
  {
   "cell_type": "code",
   "execution_count": 25,
   "id": "e7be1233",
   "metadata": {},
   "outputs": [],
   "source": [
    "def lookupName(movieID):\n",
    "    return nameDict.value[movieID]\n",
    "\n",
    "lookupNameUDF = func.udf(lookupName)"
   ]
  },
  {
   "cell_type": "markdown",
   "id": "4be78f34",
   "metadata": {},
   "source": [
    "<b>Add movie title column</b>"
   ]
  },
  {
   "cell_type": "code",
   "execution_count": 26,
   "id": "a4a71fc5",
   "metadata": {},
   "outputs": [],
   "source": [
    "moviesWithNames = movieCounts.withColumn(\"movieTitle\", lookupNameUDF(func.col(\"movieID\")))"
   ]
  },
  {
   "cell_type": "markdown",
   "id": "d6572104",
   "metadata": {},
   "source": [
    "<b>Sort the results</b>"
   ]
  },
  {
   "cell_type": "code",
   "execution_count": 27,
   "id": "d0f5413c",
   "metadata": {},
   "outputs": [],
   "source": [
    "sortedMoviesWithNames = moviesWithNames.orderBy(func.desc(\"count\"))"
   ]
  },
  {
   "cell_type": "markdown",
   "id": "60a9986f",
   "metadata": {},
   "source": [
    "<b>Top 10</b>"
   ]
  },
  {
   "cell_type": "code",
   "execution_count": 28,
   "id": "6a126290",
   "metadata": {},
   "outputs": [
    {
     "name": "stdout",
     "output_type": "stream",
     "text": [
      "+-------+-----+-----------------------------+\n",
      "|movieID|count|movieTitle                   |\n",
      "+-------+-----+-----------------------------+\n",
      "|50     |583  |Star Wars (1977)             |\n",
      "|258    |509  |Contact (1997)               |\n",
      "|100    |508  |Fargo (1996)                 |\n",
      "|181    |507  |Return of the Jedi (1983)    |\n",
      "|294    |485  |Liar Liar (1997)             |\n",
      "|286    |481  |English Patient, The (1996)  |\n",
      "|288    |478  |Scream (1996)                |\n",
      "|1      |452  |Toy Story (1995)             |\n",
      "|300    |431  |Air Force One (1997)         |\n",
      "|121    |429  |Independence Day (ID4) (1996)|\n",
      "+-------+-----+-----------------------------+\n",
      "only showing top 10 rows\n",
      "\n"
     ]
    }
   ],
   "source": [
    "sortedMoviesWithNames.show(10, False)"
   ]
  },
  {
   "cell_type": "code",
   "execution_count": 29,
   "id": "7e181823",
   "metadata": {},
   "outputs": [],
   "source": [
    "spark.stop()"
   ]
  }
 ],
 "metadata": {
  "kernelspec": {
   "display_name": "Python 3 (ipykernel)",
   "language": "python",
   "name": "python3"
  },
  "language_info": {
   "codemirror_mode": {
    "name": "ipython",
    "version": 3
   },
   "file_extension": ".py",
   "mimetype": "text/x-python",
   "name": "python",
   "nbconvert_exporter": "python",
   "pygments_lexer": "ipython3",
   "version": "3.9.13"
  }
 },
 "nbformat": 4,
 "nbformat_minor": 5
}
