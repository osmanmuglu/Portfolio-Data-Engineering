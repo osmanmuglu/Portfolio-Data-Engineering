{
 "cells": [
  {
   "cell_type": "markdown",
   "id": "991fbddc",
   "metadata": {},
   "source": [
    "## Comparing product prices from different sites using web scraping and Sqlite3"
   ]
  },
  {
   "cell_type": "markdown",
   "id": "7ec22443",
   "metadata": {},
   "source": [
    "<b>Import<b>"
   ]
  },
  {
   "cell_type": "code",
   "execution_count": 31,
   "id": "915b820c",
   "metadata": {},
   "outputs": [],
   "source": [
    "import requests\n",
    "from bs4 import BeautifulSoup\n",
    "import datetime\n",
    "import sqlite3\n",
    "import pandas as pd"
   ]
  },
  {
   "cell_type": "markdown",
   "id": "cce9e146",
   "metadata": {},
   "source": [
    "<b>Make / Connect to database</b>"
   ]
  },
  {
   "cell_type": "code",
   "execution_count": 32,
   "id": "2ee4d74b",
   "metadata": {},
   "outputs": [],
   "source": [
    "conn = sqlite3.connect('prizes')\n",
    "c = conn.cursor()\n"
   ]
  },
  {
   "cell_type": "markdown",
   "id": "da8ff717",
   "metadata": {},
   "source": [
    "<b>Create table</b>"
   ]
  },
  {
   "cell_type": "code",
   "execution_count": 33,
   "id": "d4e4a2c8",
   "metadata": {},
   "outputs": [
    {
     "data": {
      "text/plain": [
       "<sqlite3.Cursor at 0x27d9f946e30>"
      ]
     },
     "execution_count": 33,
     "metadata": {},
     "output_type": "execute_result"
    }
   ],
   "source": [
    "c.execute('''DROP TABLE comparison''')\n",
    "c.execute('''CREATE TABLE comparison (date DATE, store TEXT, title TEXT, price REAL, stock TEXT)''')"
   ]
  },
  {
   "cell_type": "code",
   "execution_count": 34,
   "id": "69990034",
   "metadata": {},
   "outputs": [
    {
     "ename": "SyntaxError",
     "evalue": "invalid syntax (1815587590.py, line 1)",
     "output_type": "error",
     "traceback": [
      "\u001b[1;36m  File \u001b[1;32m\"C:\\Users\\mntn\\AppData\\Local\\Temp\\ipykernel_4596\\1815587590.py\"\u001b[1;36m, line \u001b[1;32m1\u001b[0m\n\u001b[1;33m    <b>Code to scrape the data</b>\u001b[0m\n\u001b[1;37m    ^\u001b[0m\n\u001b[1;31mSyntaxError\u001b[0m\u001b[1;31m:\u001b[0m invalid syntax\n"
     ]
    }
   ],
   "source": [
    "<b>Code to scrape the data</b>"
   ]
  },
  {
   "cell_type": "code",
   "execution_count": 35,
   "id": "5c53c357",
   "metadata": {},
   "outputs": [],
   "source": [
    "def getPriceMM(url):\n",
    "    headers = {'User-Agent': 'Mozilla/5.0 (Windows NT 10.0; Win64; x64) AppleWebKit/537.36 (KHTML, like Gecko) Chrome/103.0.0.0 Safari/537.36'}\n",
    "    r = requests.get(url, headers=headers)\n",
    "    soup = BeautifulSoup(r.content, 'html.parser')\n",
    "    current_date = datetime.datetime.now()\n",
    "    store = 'Media Markt'\n",
    "    title = soup.find('h1').text\n",
    "    price = soup.find('div', {'class': 'StyledBox-sc-1vld6r2-0 goTwsP'}).find('span', {'class': 'ScreenreaderTextSpan-sc-11hj9ix-0 kZCfsu'}).text.replace('undefined', '')\n",
    "    stock = soup.find('div', {'class': 'StyledAvailabilityHeadingWrapper-sc-901vi5-2 iPyFyN'}).find('span', {'class':'BaseTypo-sc-1jga2g7-0 izkVco StyledInfoTypo-sc-1jga2g7-1 ZaejY StyledAvailabilityTypo-sc-901vi5-7 egVdxU'}).text\n",
    "    c.execute('''INSERT INTO comparison VALUES(?,?,?,?,?)''', (current_date, store, title, price, stock))\n",
    "    #print(current_date, store, title, price, stock)\n",
    "    return\n",
    "\n",
    "def getPriceBOL(url):\n",
    "    headers = {'User-Agent': 'Mozilla/5.0 (Windows NT 10.0; Win64; x64) AppleWebKit/537.36 (KHTML, like Gecko) Chrome/103.0.0.0 Safari/537.36'}\n",
    "    r = requests.get(url, headers=headers)\n",
    "    soup = BeautifulSoup(r.content, 'html.parser')\n",
    "    current_date = datetime.datetime.now()\n",
    "    store = 'Game Mania'\n",
    "    title = soup.find('div', {'class':'pdp-header slot slot--pdp-header js_slot-title'}).find('span', {'class':'u-mr--xs'}).text\n",
    "    price = soup.find('div', {'class': 'price-block__price'}).find('span', {'class': 'promo-price'}).text.replace('\\n', ',99').strip('99,99')\n",
    "    stock = soup.find('div', {'class': 'buy-block__delivery-text'}).find( 'span').text\n",
    "    c.execute('''INSERT INTO comparison VALUES(?,?,?,?,?)''', (current_date, store, title, price, stock))\n",
    "    #print(current_date, store, title, price, stock)\n",
    "    return\n",
    "\n",
    "def getPricePS(url):\n",
    "    headers = {'User-Agent': 'Mozilla/5.0 (Windows NT 10.0; Win64; x64) AppleWebKit/537.36 (KHTML, like Gecko) Chrome/103.0.0.0 Safari/537.36'}\n",
    "    r = requests.get(url, headers=headers)\n",
    "    soup = BeautifulSoup(r.content, 'html.parser')\n",
    "    current_date = datetime.datetime.now()\n",
    "    store = 'BCC'\n",
    "    title = soup.find('h1').text.replace('\\n',' ')\n",
    "    price = soup.find('div', {'class': 'psw-l-anchor psw-l-stack-left psw-fill-x psw-p-y-4 psw-p-x-5'}).text.replace('€', '')\n",
    "    stock = soup.find('div', {'class': 'psw-fade-out psw-l-line-left'}).find('span', {'class':'psw-fill-x psw-t-truncate-1 psw-l-space-x-2'}).text\n",
    "    c.execute('''INSERT INTO comparison VALUES(?,?,?,?,?)''', (current_date, store, title, price, stock))\n",
    "    #print(current_date, store, title, price, stock)\n",
    "    return\n"
   ]
  },
  {
   "cell_type": "code",
   "execution_count": 36,
   "id": "5cfc284a",
   "metadata": {},
   "outputs": [],
   "source": [
    "getPriceMM('https://www.mediamarkt.nl/nl/product/_ps5-fifa-23-ps5-1734919.html')\n",
    "getPriceBOL('https://www.bol.com/nl/nl/p/fifa-23-ps4/9300000116890730/?Referrer=ADVNLGOO002012-G-138517438515-S-1671973218393-9300000116890730&gclid=CjwKCAjwo_KXBhAaEiwA2RZ8hKHems2ldeJTT3_OzP3h6J7RjnEruty1hMDEZSk1Rifa1DAnrGkMxBoCNsYQAvD_BwE')\n",
    "getPricePS('https://store.playstation.com/nl-nl/concept/10004336')"
   ]
  },
  {
   "cell_type": "code",
   "execution_count": 38,
   "id": "58574d5e",
   "metadata": {},
   "outputs": [
    {
     "name": "stdout",
     "output_type": "stream",
     "text": [
      "complete\n",
      "                         date        store  \\\n",
      "0  2022-11-30 17:09:18.305455  Media Markt   \n",
      "1  2022-11-30 17:09:18.689235   Game Mania   \n",
      "2  2022-11-30 17:09:18.826966          BCC   \n",
      "\n",
      "                                      title     price  \\\n",
      "0                   FIFA 23 | PlayStation 5     79.99   \n",
      "1                             FIFA 23 - PS4  57,99  -   \n",
      "2  EA SPORTS™ FIFA 23 Standard Edition PS5™     79,99   \n",
      "\n",
      "                                     stock  \n",
      "0                      Online op voorraad…  \n",
      "1  Voor 23:59 uur besteld, vrijdag in huis  \n",
      "2                   Toevoegen aan wagentje  \n"
     ]
    }
   ],
   "source": [
    "conn.commit()\n",
    "print('complete')\n",
    "\n",
    "\n",
    "\n",
    "df = pd.read_sql_query( \"SELECT* FROM comparison\", conn)\n",
    "print(df)\n",
    "conn.close()\n"
   ]
  }
 ],
 "metadata": {
  "kernelspec": {
   "display_name": "Python 3 (ipykernel)",
   "language": "python",
   "name": "python3"
  },
  "language_info": {
   "codemirror_mode": {
    "name": "ipython",
    "version": 3
   },
   "file_extension": ".py",
   "mimetype": "text/x-python",
   "name": "python",
   "nbconvert_exporter": "python",
   "pygments_lexer": "ipython3",
   "version": "3.9.13"
  }
 },
 "nbformat": 4,
 "nbformat_minor": 5
}
